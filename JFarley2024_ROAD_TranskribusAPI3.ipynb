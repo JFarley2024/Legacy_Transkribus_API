{
  "nbformat": 4,
  "nbformat_minor": 0,
  "metadata": {
    "colab": {
      "provenance": [],
      "authorship_tag": "ABX9TyMuMZ0vzaCAsoaSnASA9VGA",
      "include_colab_link": true
    },
    "kernelspec": {
      "name": "python3",
      "display_name": "Python 3"
    },
    "language_info": {
      "name": "python"
    }
  },
  "cells": [
    {
      "cell_type": "markdown",
      "metadata": {
        "id": "view-in-github",
        "colab_type": "text"
      },
      "source": [
        "<a href=\"https://colab.research.google.com/github/JFarley2024/Legacy_Transkribus_API/blob/main/JFarley2024_ROAD_TranskribusAPI3.ipynb\" target=\"_parent\"><img src=\"https://colab.research.google.com/assets/colab-badge.svg\" alt=\"Open In Colab\"/></a>"
      ]
    },
    {
      "cell_type": "markdown",
      "source": [
        "#*ROAD Trankribus API*\n"
      ],
      "metadata": {
        "id": "-tLfNR-a_5bT"
      }
    },
    {
      "cell_type": "code",
      "source": [
        "import requests\n",
        "import json\n",
        "import xml.etree.ElementTree as ET  # https://docs.python.org/3/library/xml.etree.elementtree.html\n",
        "from PIL import Image\n",
        "from urllib.parse import urlparse   # https://docs.python.org/3/library/urllib.parse.html#module-urllib.parse\n",
        "import re\n",
        "from io import BytesIO\n",
        "from time import sleep  # Add a delay where needed"
      ],
      "metadata": {
        "id": "5lAs9f7bhS5q"
      },
      "execution_count": 12,
      "outputs": []
    },
    {
      "cell_type": "markdown",
      "source": [
        "__Shows the global variables used throught the API during a session.__"
      ],
      "metadata": {
        "id": "swJ63xr1AQj2"
      }
    },
    {
      "cell_type": "code",
      "source": [
        "USER = \"jerms_farley@hotmail.com\"\n",
        "PWD = 'Tr@nsformers89'\n",
        "API_URL = \"https://transkribus.eu/TrpServer/rest/\"\n",
        "SESSION_CACHE = {}       # Store as a dictionary\n",
        "COLLECTIONS_CACHE = []   # Store as a json\n",
        "s = requests.Session()\n"
      ],
      "metadata": {
        "id": "3UpUN80m9hMd"
      },
      "execution_count": 13,
      "outputs": []
    },
    {
      "cell_type": "markdown",
      "source": [
        "> To connect and upload to Transkribus it can require a lot of repetitive coding. To counteract this problem, you can create helper functions to handle most of the tasks and call them as needed."
      ],
      "metadata": {
        "id": "HTr6DSOvA5Ke"
      }
    },
    {
      "cell_type": "code",
      "source": [
        "def correct_url(url, add_w = False, session_cache = SESSION_CACHE, use_sess_id = True):\n",
        "\n",
        "    ### Parse the url\n",
        "    up = urlparse(url)\n",
        "\n",
        "    ### Reformat the url\n",
        "    up = up._replace(scheme = 'https' if not bool(up.scheme) else up.scheme)\n",
        "    netloc, _, path = (up.netloc or up.path).partition('/')\n",
        "    up = up._replace(path = re.sub( '/+', '/', up.path if bool(up.netloc) else path) )\n",
        "    # Add `www` to the website if needed\n",
        "    netloc = ('www.' + netloc) if bool(add_w) else netloc\n",
        "    up = up._replace(netloc = re.sub('^w*.?w*w.', 'www.', netloc))\n",
        "\n",
        "\n",
        "\n",
        "    # Logic to insert `JSESSIONID` in the url if needed\n",
        "    # Defunct after adopting SessionID into the headers, but leaving to show how to insert directly into url\n",
        "    if bool(use_sess_id) and bool(session_cache) and bool(session_cache.get('sessionId')):\n",
        "        if bool(up.query):\n",
        "            up = up._replace(query=f\"{up.query}&JSESSIONID={session_cache['sessionId']}\")\n",
        "        else:\n",
        "            up = up._replace(query=f\"JSESSIONID={session_cache['sessionId']}\")\n",
        "\n",
        "    return up\n",
        "\n",
        "\n",
        "def act_on_url(url,\n",
        "               ###\n",
        "               method = 'GET',\n",
        "               req_data = None,\n",
        "               timeout = 20,\n",
        "               retry_delay = 10,\n",
        "               retry_num = 3,\n",
        "               ###\n",
        "               add_w = False,\n",
        "               session_cache = SESSION_CACHE,\n",
        "               use_sess_id = False,\n",
        "              **kwargs):\n",
        "\n",
        "    # Notice the use of `.geturl()`\n",
        "    parsed_url = correct_url(url, session_cache = session_cache, use_sess_id = use_sess_id).geturl()\n",
        "\n",
        "    # Set the counter to 0\n",
        "    retry_cnt = 0\n",
        "\n",
        "    while retry_cnt < retry_num:\n",
        "        try:\n",
        "            response = requests.request(method = method, url = parsed_url, data = req_data, timeout = timeout, **kwargs)\n",
        "            response.raise_for_status()  # Raise an exception if the request failed, otherwise returns `None`\n",
        "            return response\n",
        "        except requests.exceptions.HTTPError as http_err:\n",
        "            print(f'HTTP error occurred for the url {parsed_url}:\\n\\t {http_err}')\n",
        "            return None\n",
        "        except requests.exceptions.Timeout:\n",
        "            print('The request timed out, retrying...')\n",
        "            sleep(retry_delay)  # Delay between retries\n",
        "            retry_cnt += 1  # Tracks number of retries\n",
        "        except Exception as err:\n",
        "            print(f'Other error occurred for the url {parsed_url}:\\n\\t {err}')\n",
        "            return None\n",
        "\n",
        "    print(f'The request timed out after {retry_num} attempts for the url {parsed_url}')\n",
        "    return None\n",
        "\n",
        "\n",
        "def build_headers(sessionid = None):\n",
        "\n",
        "    if not bool(sessionid):\n",
        "        return None\n",
        "\n",
        "    # This references a global variable implicitly. It can be quite a bad idea to design in this way\n",
        "    header = {'Cookie': f'''JSESSIONID={SESSION_CACHE['sessionId']}'''}\n",
        "    header.update( {'Content-Type': 'application/x-www-form-urlencoded'} ) # Unsure why this is done, but taking it from Dr. Mulligan's script\n",
        "\n",
        "    return header\n",
        "\n",
        "\n",
        "def authenticate(url = f'{API_URL}auth/login',\n",
        "                 ###\n",
        "                 method = 'POST',\n",
        "                 req_data = {'user': USER, 'pw': PWD},\n",
        "                 print_results = False,\n",
        "                **kwargs):\n",
        "\n",
        "    # Get the response from the url\n",
        "    response = act_on_url(url, method = method, req_data = req_data, **kwargs)\n",
        "\n",
        "    if response is None:\n",
        "        return None  # Handle error case when `act_on_url` returns None\n",
        "\n",
        "    ### Returns response from the page as text and parses it, assuming its an XML file\n",
        "    # You can confirm what page is encoded as (e.g. text, json, xml, etc.) using the\n",
        "    # following function/method(?), `response.headers['Content-Type']`, where response is the response object\n",
        "    root = ET.fromstring(response.text)\n",
        "\n",
        "    session_cache = {}\n",
        "    for child in root:\n",
        "        session_cache.update({child.tag : child.text})\n",
        "        if bool(print_results):\n",
        "            print(f\"{child.tag}: {child.text}\")\n",
        "\n",
        "    if bool(session_cache['sessionId']):\n",
        "        return session_cache\n",
        "    else:\n",
        "        print('failed to get session details from authentication')\n",
        "        return None\n",
        "\n",
        "def logout(self):\n",
        "        \"\"\" Logs out and sets the \"session_id\" variable to False. \"\"\"\n",
        "\n",
        "        cookies = dict(JSESSIONID=self.session_id)\n",
        "        response = requests.post(self._url(\"auth/logout\"), cookies=cookies)\n",
        "        if response:\n",
        "            self.session_id = False\n",
        "            print(\"TRANSKRIBUS: Logged out successfully.\")\n",
        "            return True\n",
        "        else:\n",
        "            print(\"TRANSKRIBUS: Logout failed. HTTP status:\", response.status_code, response.content)\n",
        "            return False"
      ],
      "metadata": {
        "id": "vCW6hOCX9hJU"
      },
      "execution_count": 14,
      "outputs": []
    },
    {
      "cell_type": "markdown",
      "source": [
        "> This code identifies the USER and the SessionID, the latter is called on in later tasks."
      ],
      "metadata": {
        "id": "yYm1ZCSpBRYF"
      }
    },
    {
      "cell_type": "code",
      "source": [
        "SESSION_CACHE = authenticate(print_results = True)"
      ],
      "metadata": {
        "colab": {
          "base_uri": "https://localhost:8080/"
        },
        "id": "4TeN61N09hFN",
        "outputId": "770bdf33-a50e-45a3-bc0a-d87a91e00cab"
      },
      "execution_count": 15,
      "outputs": [
        {
          "output_type": "stream",
          "name": "stdout",
          "text": [
            "userId: 223226\n",
            "userName: jerms_farley@hotmail.com\n",
            "email: jerms_farley@hotmail.com\n",
            "affiliation: None\n",
            "firstname: Jeremy\n",
            "lastname: Farley\n",
            "gender: unknown\n",
            "userRoleList: User\n",
            "isActive: 1\n",
            "isAdmin: false\n",
            "created: 2024-03-01T19:31:18.684+01:00\n",
            "loginTime: 2024-03-15T15:18:09.092+01:00\n",
            "sessionId: CFBAF1728EA690AA5C7BC65EF8E630A8\n",
            "userAgent: python-requests/2.31.0\n",
            "ip: 104.196.237.143\n"
          ]
        }
      ]
    },
    {
      "cell_type": "code",
      "source": [
        "SESSION_CACHE['sessionId']"
      ],
      "metadata": {
        "colab": {
          "base_uri": "https://localhost:8080/",
          "height": 36
        },
        "id": "XWI4SOQK9g-D",
        "outputId": "1d5724dd-f5ec-4092-8fd2-71c6bb94a6d0"
      },
      "execution_count": 16,
      "outputs": [
        {
          "output_type": "execute_result",
          "data": {
            "text/plain": [
              "'CFBAF1728EA690AA5C7BC65EF8E630A8'"
            ],
            "application/vnd.google.colaboratory.intrinsic+json": {
              "type": "string"
            }
          },
          "metadata": {},
          "execution_count": 16
        }
      ]
    },
    {
      "cell_type": "code",
      "source": [
        "headers = build_headers(sessionid = SESSION_CACHE['sessionId'])"
      ],
      "metadata": {
        "id": "ulbMFtYo9g3o"
      },
      "execution_count": 17,
      "outputs": []
    },
    {
      "cell_type": "code",
      "source": [
        "# Session ID stored in a header as a cookie, for further use\n",
        "headers"
      ],
      "metadata": {
        "colab": {
          "base_uri": "https://localhost:8080/"
        },
        "id": "aRl3xr2D9gsI",
        "outputId": "fbf1e647-cccc-451b-fe59-6844a333b1de"
      },
      "execution_count": 18,
      "outputs": [
        {
          "output_type": "execute_result",
          "data": {
            "text/plain": [
              "{'Cookie': 'JSESSIONID=CFBAF1728EA690AA5C7BC65EF8E630A8',\n",
              " 'Content-Type': 'application/x-www-form-urlencoded'}"
            ]
          },
          "metadata": {},
          "execution_count": 18
        }
      ]
    },
    {
      "cell_type": "code",
      "source": [
        "collection_list_json = act_on_url(url = f'{API_URL}collections/list',\n",
        "                                  headers = headers).json()\n",
        "# Notice the following:\n",
        "# Although we never explicitly wrote headers in our code, we can still hand it off to requests due to the **kwargs\n",
        "# We use `.json()` at the end of our function because it returns a response object which we can use the relevant methods on directly"
      ],
      "metadata": {
        "id": "ZHun3vtoEM3W"
      },
      "execution_count": 19,
      "outputs": []
    },
    {
      "cell_type": "code",
      "source": [
        "collection_list_json"
      ],
      "metadata": {
        "colab": {
          "base_uri": "https://localhost:8080/"
        },
        "id": "2W6I6SQbEUcg",
        "outputId": "905eba95-d23f-4d19-df80-c5f03cd8ab4f"
      },
      "execution_count": 20,
      "outputs": [
        {
          "output_type": "execute_result",
          "data": {
            "text/plain": [
              "[{'type': 'trpCollection',\n",
              "  'colId': 284491,\n",
              "  'colName': 'jerms_farley@hotmail.com Collection',\n",
              "  'description': 'jerms_farley@hotmail.com',\n",
              "  'created': '2024-03-01T19:31:18.764+01:00',\n",
              "  'crowdsourcing': False,\n",
              "  'elearning': False,\n",
              "  'pageId': 65926097,\n",
              "  'url': 'https://files.transkribus.eu/Get?fileType=view&id=DAEQZNPMDNXLWKBWOHOHPWDD',\n",
              "  'thumbUrl': 'https://files.transkribus.eu/Get?fileType=thumb&id=DAEQZNPMDNXLWKBWOHOHPWDD',\n",
              "  'nrOfDocuments': 9,\n",
              "  'role': 'Owner',\n",
              "  'accountingStatus': 1},\n",
              " {'type': 'trpCollection',\n",
              "  'colId': 289136,\n",
              "  'colName': 'API_Test',\n",
              "  'description': 'created by jerms_farley@hotmail.com',\n",
              "  'created': '2024-03-14T01:21:00.018+01:00',\n",
              "  'crowdsourcing': False,\n",
              "  'elearning': False,\n",
              "  'pageId': 66635173,\n",
              "  'url': 'https://files.transkribus.eu/Get?fileType=view&id=OGOZOOOPGXGMLXNHZKJSOEPB',\n",
              "  'thumbUrl': 'https://files.transkribus.eu/Get?fileType=thumb&id=OGOZOOOPGXGMLXNHZKJSOEPB',\n",
              "  'nrOfDocuments': 3,\n",
              "  'role': 'Owner',\n",
              "  'accountingStatus': 1}]"
            ]
          },
          "metadata": {},
          "execution_count": 20
        }
      ]
    },
    {
      "cell_type": "code",
      "source": [
        "# If we had different collections,\n",
        "# this is one way which allows us to get a quick overview\n",
        "for dict in collection_list_json:\n",
        "    print('Id num.', ': ', dict['colId'],\n",
        "          '\\t|\\t',\n",
        "          'Description', ': ', dict['description'], # Depending on the length, it may be good to remove\n",
        "          '\\t|\\t',\n",
        "          'num. of Doc.', ': ', dict['nrOfDocuments'],\n",
        "          sep = '')"
      ],
      "metadata": {
        "colab": {
          "base_uri": "https://localhost:8080/"
        },
        "id": "9gzkXxrhEYPa",
        "outputId": "3c2e8896-119f-486d-94bb-d4c19be4b3cd"
      },
      "execution_count": 21,
      "outputs": [
        {
          "output_type": "stream",
          "name": "stdout",
          "text": [
            "Id num.: 284491\t|\tDescription: jerms_farley@hotmail.com\t|\tnum. of Doc.: 9\n",
            "Id num.: 289136\t|\tDescription: created by jerms_farley@hotmail.com\t|\tnum. of Doc.: 3\n"
          ]
        }
      ]
    },
    {
      "cell_type": "markdown",
      "source": [
        "> Here we select which collection we are going to be working with, in this case it is the collection we created earlier."
      ],
      "metadata": {
        "id": "qDApjNv3J3kK"
      }
    },
    {
      "cell_type": "code",
      "source": [
        "# Here we select the collection id we're interested in\n",
        "col_id = collection_list_json[1]['colId']"
      ],
      "metadata": {
        "id": "gQdozgPpEcKq"
      },
      "execution_count": 22,
      "outputs": []
    },
    {
      "cell_type": "code",
      "source": [
        "# Notice how we're inserting the collection id into the url.\n",
        "# This insertion can be done programtically if needed.\n",
        "# I'm using f''' ''', but you can use just f' ' as long as the same `'` isn't in any of the variables in the string.\n",
        "document_list_json = act_on_url(url = f'''{API_URL}collections/{col_id}/list''',\n",
        "                                  headers = headers).json()"
      ],
      "metadata": {
        "id": "KR3jaMhrJPMl"
      },
      "execution_count": 23,
      "outputs": []
    },
    {
      "cell_type": "code",
      "source": [
        "document_list_json"
      ],
      "metadata": {
        "colab": {
          "base_uri": "https://localhost:8080/"
        },
        "id": "GYwKpBRzJYxl",
        "outputId": "542a95aa-7d0f-49bd-fcb4-ecf4fe733688"
      },
      "execution_count": 24,
      "outputs": [
        {
          "output_type": "execute_result",
          "data": {
            "text/plain": [
              "[{'type': 'trpDocMetadata',\n",
              "  'docId': 1878024,\n",
              "  'title': 'API_test2',\n",
              "  'author': 'Jim Farley',\n",
              "  'uploadTimestamp': 1710376774943,\n",
              "  'genre': 'test',\n",
              "  'writer': 'Some Guy',\n",
              "  'uploader': 'jerms_farley@hotmail.com',\n",
              "  'uploaderId': 223226,\n",
              "  'nrOfPages': 1,\n",
              "  'pageId': 66635173,\n",
              "  'url': 'https://files.transkribus.eu/Get?fileType=view&id=OGOZOOOPGXGMLXNHZKJSOEPB',\n",
              "  'thumbUrl': 'https://files.transkribus.eu/Get?fileType=thumb&id=OGOZOOOPGXGMLXNHZKJSOEPB',\n",
              "  'status': 0,\n",
              "  'fimgStoreColl': 'TrpDoc_DEA_1878024',\n",
              "  'origDocId': 0,\n",
              "  'collectionList': {'colList': [{'colId': 289136,\n",
              "     'colName': 'API_Test',\n",
              "     'description': 'created by jerms_farley@hotmail.com',\n",
              "     'crowdsourcing': False,\n",
              "     'elearning': False,\n",
              "     'nrOfDocuments': 0}]},\n",
              "  'attributes': [],\n",
              "  'mainColId': 289136,\n",
              "  'isInMain': True},\n",
              " {'type': 'trpDocMetadata',\n",
              "  'docId': 1878043,\n",
              "  'title': 'API_test3',\n",
              "  'author': 'Jim Farley',\n",
              "  'uploadTimestamp': 1710380364431,\n",
              "  'genre': 'test',\n",
              "  'writer': 'Some Guy',\n",
              "  'uploader': 'jerms_farley@hotmail.com',\n",
              "  'uploaderId': 223226,\n",
              "  'nrOfPages': 1,\n",
              "  'pageId': 66635281,\n",
              "  'url': 'https://files.transkribus.eu/Get?fileType=view&id=PBOWFQBPVNMBONGNCOZHKKAA',\n",
              "  'thumbUrl': 'https://files.transkribus.eu/Get?fileType=thumb&id=PBOWFQBPVNMBONGNCOZHKKAA',\n",
              "  'status': 0,\n",
              "  'fimgStoreColl': 'TrpDoc_DEA_1878043',\n",
              "  'origDocId': 0,\n",
              "  'collectionList': {'colList': [{'colId': 289136,\n",
              "     'colName': 'API_Test',\n",
              "     'description': 'created by jerms_farley@hotmail.com',\n",
              "     'crowdsourcing': False,\n",
              "     'elearning': False,\n",
              "     'nrOfDocuments': 0}]},\n",
              "  'attributes': [],\n",
              "  'mainColId': 289136,\n",
              "  'isInMain': True}]"
            ]
          },
          "metadata": {},
          "execution_count": 24
        }
      ]
    },
    {
      "cell_type": "markdown",
      "source": [
        "> Similar to above in collection list, the docs in the collection are listed"
      ],
      "metadata": {
        "id": "kXIcCpU8j_C3"
      }
    },
    {
      "cell_type": "code",
      "source": [
        "\n",
        "for dict in document_list_json:\n",
        "    print('Id num.', ': ', dict['docId'],\n",
        "          '\\t|\\t',\n",
        "          'Title', ': ', dict['title'],\n",
        "          '\\t|\\t',\n",
        "          'num. of Pages', ': ', dict['nrOfPages'],\n",
        "          sep = '')"
      ],
      "metadata": {
        "colab": {
          "base_uri": "https://localhost:8080/"
        },
        "id": "mQatUsqMJcwY",
        "outputId": "be29644b-5a77-4845-8705-1181a5977623"
      },
      "execution_count": 25,
      "outputs": [
        {
          "output_type": "stream",
          "name": "stdout",
          "text": [
            "Id num.: 1878024\t|\tTitle: API_test2\t|\tnum. of Pages: 1\n",
            "Id num.: 1878043\t|\tTitle: API_test3\t|\tnum. of Pages: 1\n"
          ]
        }
      ]
    },
    {
      "cell_type": "code",
      "source": [
        "# Here we select the document id we're interested in\n",
        "doc_id = document_list_json[1]['docId']"
      ],
      "metadata": {
        "id": "bYMjNRTRJiaX"
      },
      "execution_count": 26,
      "outputs": []
    },
    {
      "cell_type": "code",
      "source": [
        "# Similar to before, keep note of the changes in the url\n",
        "full_document_json = act_on_url(url = f'''{API_URL}collections/{col_id}/{doc_id}/fulldoc''',\n",
        "                                headers = headers).json()"
      ],
      "metadata": {
        "id": "CarSX3GWKWie"
      },
      "execution_count": 27,
      "outputs": []
    },
    {
      "cell_type": "code",
      "source": [
        "full_document_json"
      ],
      "metadata": {
        "colab": {
          "base_uri": "https://localhost:8080/"
        },
        "id": "qNAyHpJ2KZ2v",
        "outputId": "bcf5edf2-8d7d-4fa3-ae1b-dcfcee4e1678"
      },
      "execution_count": 28,
      "outputs": [
        {
          "output_type": "execute_result",
          "data": {
            "text/plain": [
              "{'md': {'nrOfRegions': 0,\n",
              "  'nrOfTranscribedRegions': 0,\n",
              "  'nrOfWordsInRegions': 0,\n",
              "  'nrOfLines': 0,\n",
              "  'nrOfTranscribedLines': 0,\n",
              "  'nrOfWordsInLines': 0,\n",
              "  'nrOfWords': 0,\n",
              "  'nrOfTranscribedWords': 0,\n",
              "  'nrOfCharsInLines': 0,\n",
              "  'nrOfNew': 1,\n",
              "  'nrOfInProgress': 0,\n",
              "  'nrOfDone': 0,\n",
              "  'nrOfFinal': 0,\n",
              "  'nrOfGT': 0,\n",
              "  'docId': 1878043,\n",
              "  'title': 'API_test3',\n",
              "  'author': 'Jim Farley',\n",
              "  'uploadTimestamp': 1710380364431,\n",
              "  'genre': 'test',\n",
              "  'writer': 'Some Guy',\n",
              "  'uploader': 'jerms_farley@hotmail.com',\n",
              "  'uploaderId': 223226,\n",
              "  'nrOfPages': 1,\n",
              "  'pageId': 66635281,\n",
              "  'url': 'https://files.transkribus.eu/Get?fileType=view&id=PBOWFQBPVNMBONGNCOZHKKAA',\n",
              "  'thumbUrl': 'https://files.transkribus.eu/Get?fileType=thumb&id=PBOWFQBPVNMBONGNCOZHKKAA',\n",
              "  'status': 0,\n",
              "  'fimgStoreColl': 'TrpDoc_DEA_1878043',\n",
              "  'origDocId': 0,\n",
              "  'collectionList': {'colList': [{'colId': 289136,\n",
              "     'colName': 'API_Test',\n",
              "     'description': 'created by jerms_farley@hotmail.com',\n",
              "     'crowdsourcing': False,\n",
              "     'elearning': False,\n",
              "     'nrOfDocuments': 0}]},\n",
              "  'attributes': [],\n",
              "  'mainColId': 289136},\n",
              " 'pageList': {'pages': [{'pageId': 66635281,\n",
              "    'docId': 1878043,\n",
              "    'pageNr': 1,\n",
              "    'key': 'PBOWFQBPVNMBONGNCOZHKKAA',\n",
              "    'imageId': 53313667,\n",
              "    'url': 'https://files.transkribus.eu/Get?id=PBOWFQBPVNMBONGNCOZHKKAA&fileType=view',\n",
              "    'thumbUrl': 'https://files.transkribus.eu/Get?id=PBOWFQBPVNMBONGNCOZHKKAA&fileType=thumb',\n",
              "    'md5Sum': '8d537ad62be29c5965c1f72f3afa5fa0',\n",
              "    'fileSize': 6618050,\n",
              "    'imgFileName': 'transkribusAPI3.jpg',\n",
              "    'tsList': {'transcripts': [{'tsId': 151391968,\n",
              "       'parentTsId': -1,\n",
              "       'key': 'PQTBSOVVWLZCMJRMTNNEWRVU',\n",
              "       'pageId': 66635281,\n",
              "       'docId': 1878043,\n",
              "       'pageNr': 1,\n",
              "       'url': 'https://files.transkribus.eu/Get?id=PQTBSOVVWLZCMJRMTNNEWRVU',\n",
              "       'status': 'NEW',\n",
              "       'userName': 'jerms_farley@hotmail.com',\n",
              "       'userId': 223226,\n",
              "       'timestamp': 1710380364431,\n",
              "       'md5Sum': '82b58b3d5b255945220ec1f34c5ec3ea',\n",
              "       'nrOfRegions': 0,\n",
              "       'nrOfTranscribedRegions': 0,\n",
              "       'nrOfWordsInRegions': 0,\n",
              "       'nrOfLines': 0,\n",
              "       'nrOfTranscribedLines': 0,\n",
              "       'nrOfWordsInLines': 0,\n",
              "       'nrOfWords': 0,\n",
              "       'nrOfTranscribedWords': 0,\n",
              "       'nrOfCharsInLines': 0,\n",
              "       'fileSize': 621,\n",
              "       'fileName': 'transkribusAPI3.xml'}]},\n",
              "    'width': 6373,\n",
              "    'height': 9000,\n",
              "    'created': '2024-03-14T02:39:24.531+01:00',\n",
              "    'indexed': True,\n",
              "    'imageVersions': {'imageVersions': []},\n",
              "    'lastIndexed': '2024-03-14T08:14:26.615+01:00'}]},\n",
              " 'collection': {'colId': 289136,\n",
              "  'colName': 'API_Test',\n",
              "  'description': 'created by jerms_farley@hotmail.com',\n",
              "  'created': '2024-03-14T01:21:00.018+01:00',\n",
              "  'crowdsourcing': False,\n",
              "  'elearning': False,\n",
              "  'pageId': 66635173,\n",
              "  'url': 'https://files.transkribus.eu/Get?fileType=view&id=OGOZOOOPGXGMLXNHZKJSOEPB',\n",
              "  'thumbUrl': 'https://files.transkribus.eu/Get?fileType=thumb&id=OGOZOOOPGXGMLXNHZKJSOEPB',\n",
              "  'nrOfDocuments': 0,\n",
              "  'accountingStatus': 1},\n",
              " 'edDeclList': []}"
            ]
          },
          "metadata": {},
          "execution_count": 28
        }
      ]
    },
    {
      "cell_type": "markdown",
      "source": [
        "> Here we list some of the values listed in our documents json"
      ],
      "metadata": {
        "id": "On9557d0KY2r"
      }
    },
    {
      "cell_type": "code",
      "source": [
        "for val in ('nrOfRegions', 'nrOfTranscribedLines', 'nrOfTranscribedWords'):\n",
        "    print(val, ': ', full_document_json['md'][val], sep = '')"
      ],
      "metadata": {
        "colab": {
          "base_uri": "https://localhost:8080/"
        },
        "id": "3oz8nUYQKcgY",
        "outputId": "2c894195-86d3-49d2-e3e7-ccaa7d1d373a"
      },
      "execution_count": 29,
      "outputs": [
        {
          "output_type": "stream",
          "name": "stdout",
          "text": [
            "nrOfRegions: 0\n",
            "nrOfTranscribedLines: 0\n",
            "nrOfTranscribedWords: 0\n"
          ]
        }
      ]
    },
    {
      "cell_type": "markdown",
      "source": [
        "> Next we pull the jobs list and list their json entries"
      ],
      "metadata": {
        "id": "NW3yAGcZKhj9"
      }
    },
    {
      "cell_type": "code",
      "source": [
        "job_list_json = act_on_url(url = f'{API_URL}jobs/list',\n",
        "                                  headers = headers).json()"
      ],
      "metadata": {
        "id": "bu0z_vtkN1BF"
      },
      "execution_count": 30,
      "outputs": []
    },
    {
      "cell_type": "code",
      "source": [
        "job_list_json;"
      ],
      "metadata": {
        "id": "kWh8RVwesm8o"
      },
      "execution_count": 31,
      "outputs": []
    },
    {
      "cell_type": "code",
      "source": [
        "for dict in job_list_json:\n",
        "    print('Job Id num.', ': ', dict['jobId'],\n",
        "          '\\t|\\t',\n",
        "          'Doc. Id num.', ': ', dict['docId'],\n",
        "          '\\t|\\t',\n",
        "          'Type', ': ', dict['type'],\n",
        "          '\\t|\\t',\n",
        "          'State', ': ', dict['state'],\n",
        "          '\\t|\\t',\n",
        "          'Succeeded', ': ', dict['success'],\n",
        "          sep = '')"
      ],
      "metadata": {
        "colab": {
          "base_uri": "https://localhost:8080/"
        },
        "id": "yA2EZBfxssjM",
        "outputId": "eeab1199-e457-46ab-8e19-716b74243dbb"
      },
      "execution_count": 32,
      "outputs": [
        {
          "output_type": "stream",
          "name": "stdout",
          "text": [
            "Job Id num.: 8353824\t|\tDoc. Id num.: 1878053\t|\tType: PyLaia Decoding\t|\tState: FINISHED\t|\tSucceeded: True\n",
            "Job Id num.: 8353804\t|\tDoc. Id num.: 1878053\t|\tType: Create Document\t|\tState: FINISHED\t|\tSucceeded: True\n",
            "Job Id num.: 8353781\t|\tDoc. Id num.: 1878043\t|\tType: Create Document\t|\tState: FINISHED\t|\tSucceeded: True\n",
            "Job Id num.: 8353761\t|\tDoc. Id num.: 1878036\t|\tType: PyLaia Decoding\t|\tState: FINISHED\t|\tSucceeded: True\n",
            "Job Id num.: 8353750\t|\tDoc. Id num.: 1878036\t|\tType: Create Document\t|\tState: FINISHED\t|\tSucceeded: True\n",
            "Job Id num.: 8353746\t|\tDoc. Id num.: 1878035\t|\tType: Create Document\t|\tState: FINISHED\t|\tSucceeded: True\n",
            "Job Id num.: 8353696\t|\tDoc. Id num.: 1878024\t|\tType: PyLaia Decoding\t|\tState: FINISHED\t|\tSucceeded: True\n",
            "Job Id num.: 8353685\t|\tDoc. Id num.: 1878028\t|\tType: Create Document\t|\tState: FINISHED\t|\tSucceeded: True\n",
            "Job Id num.: 8353680\t|\tDoc. Id num.: 1878024\t|\tType: Create Document\t|\tState: FINISHED\t|\tSucceeded: True\n",
            "Job Id num.: 8353676\t|\tDoc. Id num.: 1878022\t|\tType: Create Document\t|\tState: FINISHED\t|\tSucceeded: True\n",
            "Job Id num.: 8352118\t|\tDoc. Id num.: 1877723\t|\tType: Create Document\t|\tState: FINISHED\t|\tSucceeded: True\n",
            "Job Id num.: 8207016\t|\tDoc. Id num.: 1857596\t|\tType: PyLaia Decoding\t|\tState: FINISHED\t|\tSucceeded: True\n",
            "Job Id num.: 8206989\t|\tDoc. Id num.: 1857596\t|\tType: Create Document\t|\tState: FINISHED\t|\tSucceeded: True\n",
            "Job Id num.: 8193455\t|\tDoc. Id num.: 1855640\t|\tType: PyLaia Decoding\t|\tState: FINISHED\t|\tSucceeded: True\n",
            "Job Id num.: 8193315\t|\tDoc. Id num.: 1855640\t|\tType: PyLaia Decoding\t|\tState: FINISHED\t|\tSucceeded: True\n",
            "Job Id num.: 8192705\t|\tDoc. Id num.: 1855640\t|\tType: PyLaia Decoding\t|\tState: FINISHED\t|\tSucceeded: True\n",
            "Job Id num.: 8192696\t|\tDoc. Id num.: 1855640\t|\tType: Create Document\t|\tState: FINISHED\t|\tSucceeded: True\n",
            "Job Id num.: 8191378\t|\tDoc. Id num.: 1855481\t|\tType: Create Document\t|\tState: CANCELED\t|\tSucceeded: False\n",
            "Job Id num.: 8191353\t|\tDoc. Id num.: 1855478\t|\tType: Create Document\t|\tState: FINISHED\t|\tSucceeded: True\n"
          ]
        }
      ]
    },
    {
      "cell_type": "code",
      "source": [
        "job_id = job_list_json[0]['jobId']"
      ],
      "metadata": {
        "id": "wG9HoKeBszmx"
      },
      "execution_count": 33,
      "outputs": []
    },
    {
      "cell_type": "code",
      "source": [
        "full_job_json = act_on_url(url = f'''{API_URL}jobs/{job_id}''',\n",
        "                                  headers = headers).json()"
      ],
      "metadata": {
        "id": "GMF1737BN5zz"
      },
      "execution_count": 34,
      "outputs": []
    },
    {
      "cell_type": "code",
      "source": [
        "full_job_json"
      ],
      "metadata": {
        "colab": {
          "base_uri": "https://localhost:8080/"
        },
        "id": "J5SHadt8OC0F",
        "outputId": "c4bcac4e-7264-4922-a662-eb7302937330"
      },
      "execution_count": 35,
      "outputs": [
        {
          "output_type": "execute_result",
          "data": {
            "text/plain": [
              "{'jobId': '8353824',\n",
              " 'docId': 1878053,\n",
              " 'pageNr': -1,\n",
              " 'pages': '1',\n",
              " 'type': 'PyLaia Decoding',\n",
              " 'state': 'FINISHED',\n",
              " 'success': True,\n",
              " 'description': 'Done, duration: 2m 13s 406ms',\n",
              " 'userName': 'jerms_farley@hotmail.com',\n",
              " 'userId': 223226,\n",
              " 'createTime': 1710380860985,\n",
              " 'startTime': 1710380862410,\n",
              " 'endTime': 1710380995816,\n",
              " 'jobData': '#Thu Mar 14 02:47:42 CET 2024\\ndoNotDeleteWorkDir=false\\nwriteKwsIndex=false\\ndoLinePolygonSimplification=true\\nkeepOriginalLinePolygons=false\\nmodelId=53042\\nwriteLineConfScore=false\\nwriteWordConfScores=false\\nb2pBackend=Legacy\\nuserRoles=User\\nclearLines=false\\nisNextGen=false\\nuserEmail=jerms_farley@hotmail.com\\nGPU_DEVICE=0\\ndoWordSeg=true\\nworkDir=/tmp/HTR/PyLaia/trpProd/Decode/pylaiaDecode_8353824\\nbatchSize=10\\nlanguageModel=trainDataLanguageModel\\nuseExistingLinePolygons=false\\nnBest=1\\n',\n",
              " 'resumable': False,\n",
              " 'jobImpl': 'PyLaiaDecodingJob',\n",
              " 'moduleUrl': 'http://srv6146:8081/PyLaiaModule-trpProd-2.12.1',\n",
              " 'moduleName': 'PyLaiaModule',\n",
              " 'moduleVersion': '2.12.1',\n",
              " 'started': '2024-03-14T02:47:42.41+01:00',\n",
              " 'ended': '2024-03-14T02:49:55.816+01:00',\n",
              " 'created': '2024-03-14T02:47:40.985+01:00',\n",
              " 'pid': '1135798',\n",
              " 'batchId': 0,\n",
              " 'pageid': 0,\n",
              " 'tsid': 0,\n",
              " 'parent_jobid': 0,\n",
              " 'parent_batchid': 0,\n",
              " 'colId': 289136,\n",
              " 'progress': 1,\n",
              " 'totalWork': 1,\n",
              " 'nrOfErrors': 0,\n",
              " 'modelId': 53042,\n",
              " 'nrOfElements': 1140,\n",
              " 'docTitle': 'Deleted Document',\n",
              " 'priority': 0,\n",
              " 'creditsFreeOfCharge': True}"
            ]
          },
          "metadata": {},
          "execution_count": 35
        }
      ]
    },
    {
      "cell_type": "code",
      "source": [
        "# listing some of the values in the jobs json entries\n",
        "for val in ('type', 'docTitle', 'description', 'state'):\n",
        "    print(val, ': ', full_job_json[val], sep = '')"
      ],
      "metadata": {
        "colab": {
          "base_uri": "https://localhost:8080/"
        },
        "id": "HFBlLcQ7OSXY",
        "outputId": "4b3c5723-5d13-48c7-d2a1-5a0080e3a7f9"
      },
      "execution_count": 36,
      "outputs": [
        {
          "output_type": "stream",
          "name": "stdout",
          "text": [
            "type: PyLaia Decoding\n",
            "docTitle: Deleted Document\n",
            "description: Done, duration: 2m 13s 406ms\n",
            "state: FINISHED\n"
          ]
        }
      ]
    },
    {
      "cell_type": "markdown",
      "source": [
        "> Here we download the image file, assign it to a variable, create a json for it, and pPOST it to the TRanskribus website"
      ],
      "metadata": {
        "id": "EJ3tXC8xLIn5"
      }
    },
    {
      "cell_type": "code",
      "source": [
        "# The image we intend to upload is downloaded and assigned to a variable we then use in the rest of this API\n",
        "!wget \"https://cdm16003.contentdm.oclc.org/digital/iiif/p16003coll20/7/full/full/0/default.jpg\" -O transkribusAPI4.jpg\n"
      ],
      "metadata": {
        "colab": {
          "base_uri": "https://localhost:8080/"
        },
        "id": "s1mlwx70U-km",
        "outputId": "19446b12-696e-4666-f9bd-fa5123e0b27e"
      },
      "execution_count": 37,
      "outputs": [
        {
          "output_type": "stream",
          "name": "stdout",
          "text": [
            "--2024-03-15 14:20:45--  https://cdm16003.contentdm.oclc.org/digital/iiif/p16003coll20/7/full/full/0/default.jpg\n",
            "Resolving cdm16003.contentdm.oclc.org (cdm16003.contentdm.oclc.org)... 132.174.3.1\n",
            "Connecting to cdm16003.contentdm.oclc.org (cdm16003.contentdm.oclc.org)|132.174.3.1|:443... connected.\n",
            "HTTP request sent, awaiting response... 200 OK\n",
            "Length: unspecified [image/jpeg]\n",
            "Saving to: ‘transkribusAPI4.jpg’\n",
            "\n",
            "transkribusAPI4.jpg     [  <=>               ]   6.31M   962KB/s    in 7.4s    \n",
            "\n",
            "2024-03-15 14:21:18 (871 KB/s) - ‘transkribusAPI4.jpg’ saved [6618050]\n",
            "\n"
          ]
        }
      ]
    },
    {
      "cell_type": "code",
      "source": [
        "image_upload = {\n",
        "    \"md\": {\n",
        "        \"title\": \"API_test4\",\n",
        "        \"author\": \"Jim Farley\",\n",
        "        \"genre\": \"test\",\n",
        "        \"writer\": \"Some Guy still testing\"\n",
        "    },\n",
        "    \"pageList\": {\n",
        "        \"pages\": [\n",
        "            {\n",
        "                \"fileName\": \"transkribusAPI4.jpg\",\n",
        "                \"pageNr\": 1\n",
        "            }\n",
        "            # Add more details if needed\n",
        "        ]\n",
        "    }\n",
        "}"
      ],
      "metadata": {
        "id": "zjr2RHZxOVpZ"
      },
      "execution_count": 52,
      "outputs": []
    },
    {
      "cell_type": "code",
      "source": [
        "image_upload"
      ],
      "metadata": {
        "colab": {
          "base_uri": "https://localhost:8080/"
        },
        "id": "6ytsQRx6XaSw",
        "outputId": "4247bcff-3af0-4271-eb8c-f9998026efe4"
      },
      "execution_count": 53,
      "outputs": [
        {
          "output_type": "execute_result",
          "data": {
            "text/plain": [
              "{'md': {'title': 'API_test4',\n",
              "  'author': 'Jim Farley',\n",
              "  'genre': 'test',\n",
              "  'writer': 'Some Guy still testing'},\n",
              " 'pageList': {'pages': [{'fileName': 'transkribusAPI4.jpg', 'pageNr': 1}]}}"
            ]
          },
          "metadata": {},
          "execution_count": 53
        }
      ]
    },
    {
      "cell_type": "code",
      "source": [
        "header_up = headers.copy()\n",
        "header_up.pop('Content-Type')\n",
        "header_up.update( {'Content-Type': 'application/json'} )"
      ],
      "metadata": {
        "id": "ZxeIqrX5XuZP"
      },
      "execution_count": 54,
      "outputs": []
    },
    {
      "cell_type": "code",
      "source": [
        "header_up"
      ],
      "metadata": {
        "colab": {
          "base_uri": "https://localhost:8080/"
        },
        "id": "Im6Rlv-eYH4z",
        "outputId": "a7f97148-3dbf-4b96-a618-6e5cc71a055e"
      },
      "execution_count": 55,
      "outputs": [
        {
          "output_type": "execute_result",
          "data": {
            "text/plain": [
              "{'Cookie': 'JSESSIONID=CFBAF1728EA690AA5C7BC65EF8E630A8',\n",
              " 'Content-Type': 'application/json'}"
            ]
          },
          "metadata": {},
          "execution_count": 55
        }
      ]
    },
    {
      "cell_type": "code",
      "source": [
        "temp = requests.request(url = f'''{API_URL}uploads?collId={col_id}''',\n",
        "                        method = 'POST', json = image_upload, headers = header_up)"
      ],
      "metadata": {
        "id": "w5qTWcj0YKpt"
      },
      "execution_count": 56,
      "outputs": []
    },
    {
      "cell_type": "code",
      "source": [
        "ET.fromstring(temp.text)\n",
        "for child in ET.fromstring(temp.text):\n",
        "    if not bool(child):\n",
        "        print(f\"{child.tag}: {child.text}\")\n",
        "    else:\n",
        "        print(child.tag)\n",
        "        for x in child:\n",
        "            if not bool(x):\n",
        "                print(f\"\\t{x.tag}: {x.text}\")\n",
        "            else:\n",
        "                print(f'\\t{x.tag}')\n",
        "                for y in x:\n",
        "                    if not bool(y):\n",
        "                        print(f\"\\t\\t{y.tag}: {y.text}\")\n",
        "                    else:\n",
        "                        print(f'\\t\\t{y.tag}')"
      ],
      "metadata": {
        "colab": {
          "base_uri": "https://localhost:8080/"
        },
        "id": "aR4dZAYTYOwD",
        "outputId": "61a95855-30b7-419d-e488-9973e1509a64"
      },
      "execution_count": 57,
      "outputs": [
        {
          "output_type": "stream",
          "name": "stdout",
          "text": [
            "md\n",
            "\tdocId: -1\n",
            "\ttitle: API_test4\n",
            "\tauthor: Jim Farley\n",
            "\tuploadTimestamp: 0\n",
            "\tgenre: test\n",
            "\twriter: Some Guy still testing\n",
            "\tuploaderId: 0\n",
            "\tnrOfPages: 0\n",
            "\tcollectionList: None\n",
            "pageList\n",
            "\tpages\n",
            "\t\tfileName: transkribusAPI4.jpg\n",
            "\t\tpageUploaded: false\n",
            "\t\tpageNr: 1\n",
            "uploadId: 1880847\n",
            "created: 2024-03-15T15:22:48.761+01:00\n",
            "userId: 223226\n",
            "userName: jerms_farley@hotmail.com\n",
            "nrOfPagesTotal: 1\n",
            "uploadType: JSON\n",
            "colId: 289136\n"
          ]
        }
      ]
    },
    {
      "cell_type": "markdown",
      "source": [
        "> After we POST the image doc to Transkribus, we parse the upload id, then place that data into the collection with a PUT method."
      ],
      "metadata": {
        "id": "Nytj0UqPL0XD"
      }
    },
    {
      "cell_type": "code",
      "source": [
        "upload_id = ET.fromstring(temp.text)[2].text"
      ],
      "metadata": {
        "id": "qUtCDgm6YYWr"
      },
      "execution_count": 58,
      "outputs": []
    },
    {
      "cell_type": "code",
      "source": [
        "upload_id"
      ],
      "metadata": {
        "colab": {
          "base_uri": "https://localhost:8080/",
          "height": 36
        },
        "id": "n-FAXECab5nR",
        "outputId": "e615a1ff-e707-40a5-c999-cef26b3c50a8"
      },
      "execution_count": 59,
      "outputs": [
        {
          "output_type": "execute_result",
          "data": {
            "text/plain": [
              "'1880847'"
            ],
            "application/vnd.google.colaboratory.intrinsic+json": {
              "type": "string"
            }
          },
          "metadata": {},
          "execution_count": 59
        }
      ]
    },
    {
      "cell_type": "code",
      "source": [
        "# Place upload in variable 'b'\n",
        "b = open('transkribusAPI4.jpg', 'rb')"
      ],
      "metadata": {
        "id": "anSQ_Y2GgGWX"
      },
      "execution_count": 60,
      "outputs": []
    },
    {
      "cell_type": "code",
      "source": [
        "files = {'img': b, 'Content-Type': 'application/octet-stream' }"
      ],
      "metadata": {
        "id": "_IpazYpKcL6H"
      },
      "execution_count": 61,
      "outputs": []
    },
    {
      "cell_type": "code",
      "source": [
        "header_up.pop('Content-Type')"
      ],
      "metadata": {
        "colab": {
          "base_uri": "https://localhost:8080/",
          "height": 36
        },
        "id": "yB-EHvdKmTvO",
        "outputId": "de536775-6ce1-4d28-b302-1d9bc72b4d7c"
      },
      "execution_count": 62,
      "outputs": [
        {
          "output_type": "execute_result",
          "data": {
            "text/plain": [
              "'application/json'"
            ],
            "application/vnd.google.colaboratory.intrinsic+json": {
              "type": "string"
            }
          },
          "metadata": {},
          "execution_count": 62
        }
      ]
    },
    {
      "cell_type": "code",
      "source": [
        "temp_put = requests.request(url = f'''{API_URL}uploads/{upload_id}''',\n",
        "                        method = 'PUT', files = files, headers = header_up)"
      ],
      "metadata": {
        "id": "K2s0zeakc6uM"
      },
      "execution_count": 63,
      "outputs": []
    },
    {
      "cell_type": "code",
      "source": [
        "temp_put.content"
      ],
      "metadata": {
        "colab": {
          "base_uri": "https://localhost:8080/"
        },
        "id": "MefhudFRiqQD",
        "outputId": "176743dd-a6f6-4024-d87c-6c38a69e04a0"
      },
      "execution_count": 64,
      "outputs": [
        {
          "output_type": "execute_result",
          "data": {
            "text/plain": [
              "b'<?xml version=\"1.0\" encoding=\"UTF-8\" standalone=\"yes\"?><trpUpload><md><docId>-1</docId><title>API_test4</title><author>Jim Farley</author><uploadTimestamp>0</uploadTimestamp><genre>test</genre><writer>Some Guy still testing</writer><uploaderId>0</uploaderId><nrOfPages>0</nrOfPages><collectionList/></md><pageList><pages><fileName>transkribusAPI4.jpg</fileName><pageUploaded>true</pageUploaded><pageNr>1</pageNr></pages></pageList><uploadId>1880847</uploadId><created>2024-03-15T15:22:48.761+01:00</created><finished>2024-03-15T15:23:06.409+01:00</finished><userId>223226</userId><userName>jerms_farley@hotmail.com</userName><nrOfPagesTotal>1</nrOfPagesTotal><uploadType>JSON</uploadType><jobId>8381588</jobId><colId>289136</colId></trpUpload>'"
            ]
          },
          "metadata": {},
          "execution_count": 64
        }
      ]
    },
    {
      "cell_type": "code",
      "source": [
        "for child in ET.fromstring(temp_put.text):\n",
        "    if not bool(child):\n",
        "        print(f\"{child.tag}: {child.text}\")\n",
        "    else:\n",
        "        print(child.tag)\n",
        "        for x in child:\n",
        "            if not bool(x):\n",
        "                print(f\"\\t{x.tag}: {x.text}\")\n",
        "            else:\n",
        "                print(f'\\t{x.tag}')\n",
        "                for y in x:\n",
        "                    if not bool(y):\n",
        "                        print(f\"\\t\\t{y.tag}: {y.text}\")\n",
        "                    else:\n",
        "                        print(f'\\t\\t{y.tag}')"
      ],
      "metadata": {
        "colab": {
          "base_uri": "https://localhost:8080/"
        },
        "id": "YFWXrf46iy1s",
        "outputId": "d09f04cb-8402-4de0-bc6a-ad23d60c679d"
      },
      "execution_count": 65,
      "outputs": [
        {
          "output_type": "stream",
          "name": "stdout",
          "text": [
            "md\n",
            "\tdocId: -1\n",
            "\ttitle: API_test4\n",
            "\tauthor: Jim Farley\n",
            "\tuploadTimestamp: 0\n",
            "\tgenre: test\n",
            "\twriter: Some Guy still testing\n",
            "\tuploaderId: 0\n",
            "\tnrOfPages: 0\n",
            "\tcollectionList: None\n",
            "pageList\n",
            "\tpages\n",
            "\t\tfileName: transkribusAPI4.jpg\n",
            "\t\tpageUploaded: true\n",
            "\t\tpageNr: 1\n",
            "uploadId: 1880847\n",
            "created: 2024-03-15T15:22:48.761+01:00\n",
            "finished: 2024-03-15T15:23:06.409+01:00\n",
            "userId: 223226\n",
            "userName: jerms_farley@hotmail.com\n",
            "nrOfPagesTotal: 1\n",
            "uploadType: JSON\n",
            "jobId: 8381588\n",
            "colId: 289136\n"
          ]
        }
      ]
    },
    {
      "cell_type": "markdown",
      "source": [
        "> Next we parse out the job id for the uploaded image and check the status on the upload\n",
        "\n"
      ],
      "metadata": {
        "id": "OMXQY4sFSS_d"
      }
    },
    {
      "cell_type": "code",
      "source": [
        "job_api_id = ET.fromstring(temp_put.text)[9].text"
      ],
      "metadata": {
        "id": "1C1CXw0Fi5L9"
      },
      "execution_count": 66,
      "outputs": []
    },
    {
      "cell_type": "code",
      "source": [
        "job_api_id"
      ],
      "metadata": {
        "colab": {
          "base_uri": "https://localhost:8080/",
          "height": 36
        },
        "id": "c3I3dmf5mpJQ",
        "outputId": "543f430b-1f46-4e73-dcee-016676fe141e"
      },
      "execution_count": 67,
      "outputs": [
        {
          "output_type": "execute_result",
          "data": {
            "text/plain": [
              "'8381588'"
            ],
            "application/vnd.google.colaboratory.intrinsic+json": {
              "type": "string"
            }
          },
          "metadata": {},
          "execution_count": 67
        }
      ]
    },
    {
      "cell_type": "code",
      "source": [
        "job_api_details = act_on_url(url = f'''{API_URL}jobs/{job_api_id}''',\n",
        "                             headers = headers).json()"
      ],
      "metadata": {
        "id": "BxzJlxWWmr_R"
      },
      "execution_count": 68,
      "outputs": []
    },
    {
      "cell_type": "code",
      "source": [
        "for val in ('type', 'docTitle', 'docId', 'colId', 'description', 'state'):\n",
        "    print(val, ': ',\n",
        "          job_api_details[val],\n",
        "          sep = '')"
      ],
      "metadata": {
        "colab": {
          "base_uri": "https://localhost:8080/"
        },
        "id": "Y8fPgr76myPI",
        "outputId": "fa85f011-8fa5-4219-b902-78d3b6bb15e5"
      },
      "execution_count": 69,
      "outputs": [
        {
          "output_type": "stream",
          "name": "stdout",
          "text": [
            "type: Create Document\n",
            "docTitle: API_test4\n",
            "docId: 1880847\n",
            "colId: 289136\n",
            "description: Done, duration: 3s 54ms\n",
            "state: FINISHED\n"
          ]
        }
      ]
    },
    {
      "cell_type": "code",
      "source": [
        "job_api_details"
      ],
      "metadata": {
        "colab": {
          "base_uri": "https://localhost:8080/"
        },
        "id": "wa79MR9Km2D6",
        "outputId": "f2151ec5-2067-4d1f-ba9c-14be1e7697e7"
      },
      "execution_count": 70,
      "outputs": [
        {
          "output_type": "execute_result",
          "data": {
            "text/plain": [
              "{'jobId': '8381588',\n",
              " 'docId': 1880847,\n",
              " 'pageNr': -1,\n",
              " 'type': 'Create Document',\n",
              " 'state': 'FINISHED',\n",
              " 'success': True,\n",
              " 'description': 'Done, duration: 3s 54ms',\n",
              " 'userName': 'jerms_farley@hotmail.com',\n",
              " 'userId': 223226,\n",
              " 'createTime': 1710512586274,\n",
              " 'startTime': 1710512586899,\n",
              " 'endTime': 1710512589953,\n",
              " 'jobData': '#Fri Mar 15 15:23:06 CET 2024\\ncolId=289136\\n',\n",
              " 'resumable': False,\n",
              " 'jobImpl': 'UploadImportJob',\n",
              " 'moduleUrl': 'http://dea-bl04:8080/UtilityModule-trpProd-2.12.0',\n",
              " 'moduleName': 'UtilityModule',\n",
              " 'moduleVersion': '2.12.0',\n",
              " 'started': '2024-03-15T15:23:06.899+01:00',\n",
              " 'ended': '2024-03-15T15:23:09.953+01:00',\n",
              " 'created': '2024-03-15T15:23:06.274+01:00',\n",
              " 'batchId': 0,\n",
              " 'pageid': 0,\n",
              " 'tsid': 0,\n",
              " 'parent_jobid': 0,\n",
              " 'parent_batchid': 0,\n",
              " 'colId': 289136,\n",
              " 'progress': 1,\n",
              " 'totalWork': 1,\n",
              " 'nrOfErrors': 0,\n",
              " 'docTitle': 'API_test4',\n",
              " 'priority': 0}"
            ]
          },
          "metadata": {},
          "execution_count": 70
        }
      ]
    },
    {
      "cell_type": "markdown",
      "source": [
        "> Check jobs list for the transcription job"
      ],
      "metadata": {
        "id": "dOPe-bP0pvUh"
      }
    },
    {
      "cell_type": "code",
      "source": [
        "job_list_json = act_on_url(url = f'{API_URL}jobs/list',\n",
        "                                  headers = headers).json()"
      ],
      "metadata": {
        "id": "7NZkpK00pJrR"
      },
      "execution_count": 86,
      "outputs": []
    },
    {
      "cell_type": "code",
      "source": [
        "job_list_json;"
      ],
      "metadata": {
        "id": "A5MZjPbJpK_g"
      },
      "execution_count": 87,
      "outputs": []
    },
    {
      "cell_type": "code",
      "source": [
        "for dict in job_list_json:\n",
        "    print('Job Id num.', ': ', dict['jobId'],\n",
        "          '\\t|\\t',\n",
        "          'Doc. Id num.', ': ', dict['docId'],\n",
        "          '\\t|\\t',\n",
        "          'Type', ': ', dict['type'],\n",
        "          '\\t|\\t',\n",
        "          'State', ': ', dict['state'],\n",
        "          '\\t|\\t',\n",
        "          'Succeeded', ': ', dict['success'],\n",
        "          sep = '')"
      ],
      "metadata": {
        "colab": {
          "base_uri": "https://localhost:8080/"
        },
        "id": "NGlTBwuVpK1g",
        "outputId": "d555090c-a3b4-41ad-9d05-08b4a6441959"
      },
      "execution_count": 88,
      "outputs": [
        {
          "output_type": "stream",
          "name": "stdout",
          "text": [
            "Job Id num.: 8381600\t|\tDoc. Id num.: 1880847\t|\tType: PyLaia Decoding\t|\tState: FINISHED\t|\tSucceeded: True\n",
            "Job Id num.: 8381588\t|\tDoc. Id num.: 1880847\t|\tType: Create Document\t|\tState: FINISHED\t|\tSucceeded: True\n",
            "Job Id num.: 8353824\t|\tDoc. Id num.: 1878053\t|\tType: PyLaia Decoding\t|\tState: FINISHED\t|\tSucceeded: True\n",
            "Job Id num.: 8353804\t|\tDoc. Id num.: 1878053\t|\tType: Create Document\t|\tState: FINISHED\t|\tSucceeded: True\n",
            "Job Id num.: 8353781\t|\tDoc. Id num.: 1878043\t|\tType: Create Document\t|\tState: FINISHED\t|\tSucceeded: True\n",
            "Job Id num.: 8353761\t|\tDoc. Id num.: 1878036\t|\tType: PyLaia Decoding\t|\tState: FINISHED\t|\tSucceeded: True\n",
            "Job Id num.: 8353750\t|\tDoc. Id num.: 1878036\t|\tType: Create Document\t|\tState: FINISHED\t|\tSucceeded: True\n",
            "Job Id num.: 8353746\t|\tDoc. Id num.: 1878035\t|\tType: Create Document\t|\tState: FINISHED\t|\tSucceeded: True\n",
            "Job Id num.: 8353696\t|\tDoc. Id num.: 1878024\t|\tType: PyLaia Decoding\t|\tState: FINISHED\t|\tSucceeded: True\n",
            "Job Id num.: 8353685\t|\tDoc. Id num.: 1878028\t|\tType: Create Document\t|\tState: FINISHED\t|\tSucceeded: True\n",
            "Job Id num.: 8353680\t|\tDoc. Id num.: 1878024\t|\tType: Create Document\t|\tState: FINISHED\t|\tSucceeded: True\n",
            "Job Id num.: 8353676\t|\tDoc. Id num.: 1878022\t|\tType: Create Document\t|\tState: FINISHED\t|\tSucceeded: True\n",
            "Job Id num.: 8352118\t|\tDoc. Id num.: 1877723\t|\tType: Create Document\t|\tState: FINISHED\t|\tSucceeded: True\n",
            "Job Id num.: 8207016\t|\tDoc. Id num.: 1857596\t|\tType: PyLaia Decoding\t|\tState: FINISHED\t|\tSucceeded: True\n",
            "Job Id num.: 8206989\t|\tDoc. Id num.: 1857596\t|\tType: Create Document\t|\tState: FINISHED\t|\tSucceeded: True\n",
            "Job Id num.: 8193455\t|\tDoc. Id num.: 1855640\t|\tType: PyLaia Decoding\t|\tState: FINISHED\t|\tSucceeded: True\n",
            "Job Id num.: 8193315\t|\tDoc. Id num.: 1855640\t|\tType: PyLaia Decoding\t|\tState: FINISHED\t|\tSucceeded: True\n",
            "Job Id num.: 8192705\t|\tDoc. Id num.: 1855640\t|\tType: PyLaia Decoding\t|\tState: FINISHED\t|\tSucceeded: True\n",
            "Job Id num.: 8192696\t|\tDoc. Id num.: 1855640\t|\tType: Create Document\t|\tState: FINISHED\t|\tSucceeded: True\n",
            "Job Id num.: 8191378\t|\tDoc. Id num.: 1855481\t|\tType: Create Document\t|\tState: CANCELED\t|\tSucceeded: False\n",
            "Job Id num.: 8191353\t|\tDoc. Id num.: 1855478\t|\tType: Create Document\t|\tState: FINISHED\t|\tSucceeded: True\n"
          ]
        }
      ]
    },
    {
      "cell_type": "code",
      "source": [
        "job_id = job_list_json[0]['jobId']\n",
        "full_job_json = act_on_url(url = f'''{API_URL}jobs/{job_id}''',\n",
        "                                  headers = headers).json()\n",
        ""
      ],
      "metadata": {
        "id": "47KgfURJpXN8"
      },
      "execution_count": 89,
      "outputs": []
    },
    {
      "cell_type": "code",
      "source": [
        "full_job_json"
      ],
      "metadata": {
        "colab": {
          "base_uri": "https://localhost:8080/"
        },
        "id": "qPJkD1VxpXJL",
        "outputId": "0d8566f8-0e35-4eea-f202-00d8722822c9"
      },
      "execution_count": 90,
      "outputs": [
        {
          "output_type": "execute_result",
          "data": {
            "text/plain": [
              "{'jobId': '8381600',\n",
              " 'docId': 1880847,\n",
              " 'pageNr': -1,\n",
              " 'pages': '1',\n",
              " 'type': 'PyLaia Decoding',\n",
              " 'state': 'FINISHED',\n",
              " 'success': True,\n",
              " 'description': 'Done, duration: 2m 59s 718ms',\n",
              " 'userName': 'jerms_farley@hotmail.com',\n",
              " 'userId': 223226,\n",
              " 'createTime': 1710512646568,\n",
              " 'startTime': 1710512649589,\n",
              " 'endTime': 1710512829307,\n",
              " 'jobData': '#Fri Mar 15 15:24:09 CET 2024\\ndoNotDeleteWorkDir=false\\nwriteKwsIndex=false\\ndoLinePolygonSimplification=true\\nkeepOriginalLinePolygons=false\\nmodelId=53042\\nwriteLineConfScore=false\\nwriteWordConfScores=false\\nb2pBackend=Legacy\\nuserRoles=User\\nclearLines=false\\nisNextGen=false\\nuserEmail=jerms_farley@hotmail.com\\nGPU_DEVICE=0\\ndoWordSeg=true\\nworkDir=/tmp/HTR/PyLaia/trpProd/Decode/pylaiaDecode_8381600\\nbatchSize=10\\nlanguageModel=trainDataLanguageModel\\nuseExistingLinePolygons=false\\nnBest=1\\n',\n",
              " 'resumable': False,\n",
              " 'jobImpl': 'PyLaiaDecodingJob',\n",
              " 'moduleUrl': 'http://srv6103:8081/PyLaiaModule-trpProd-2.12.1',\n",
              " 'moduleName': 'PyLaiaModule',\n",
              " 'moduleVersion': '2.12.1',\n",
              " 'started': '2024-03-15T15:24:09.589+01:00',\n",
              " 'ended': '2024-03-15T15:27:09.307+01:00',\n",
              " 'created': '2024-03-15T15:24:06.568+01:00',\n",
              " 'pid': '1585022',\n",
              " 'batchId': 0,\n",
              " 'pageid': 0,\n",
              " 'tsid': 0,\n",
              " 'parent_jobid': 0,\n",
              " 'parent_batchid': 0,\n",
              " 'colId': 289136,\n",
              " 'progress': 1,\n",
              " 'totalWork': 1,\n",
              " 'nrOfErrors': 0,\n",
              " 'modelId': 53042,\n",
              " 'nrOfElements': 1140,\n",
              " 'docTitle': 'API_test4',\n",
              " 'priority': 0,\n",
              " 'creditsFreeOfCharge': True}"
            ]
          },
          "metadata": {},
          "execution_count": 90
        }
      ]
    },
    {
      "cell_type": "code",
      "source": [
        "logout;"
      ],
      "metadata": {
        "id": "AvZ3qjo3vcmq"
      },
      "execution_count": 83,
      "outputs": []
    },
    {
      "cell_type": "code",
      "source": [],
      "metadata": {
        "id": "dtly3st7mJ-3"
      },
      "execution_count": null,
      "outputs": []
    }
  ]
}